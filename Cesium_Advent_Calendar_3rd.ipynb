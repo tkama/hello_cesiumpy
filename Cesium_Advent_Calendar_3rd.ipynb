{
 "cells": [
  {
   "cell_type": "markdown",
   "metadata": {},
   "source": [
    "ライブラリのインポートとバージョン表示"
   ]
  },
  {
   "cell_type": "code",
   "execution_count": 10,
   "metadata": {},
   "outputs": [],
   "source": [
    "import pandas as pd\n",
    "import numpy as np"
   ]
  },
  {
   "cell_type": "code",
   "execution_count": 1,
   "metadata": {},
   "outputs": [
    {
     "data": {
      "text/plain": [
       "'0.3.3'"
      ]
     },
     "execution_count": 1,
     "metadata": {},
     "output_type": "execute_result"
    }
   ],
   "source": [
    "import cesiumpy\n",
    "cesiumpy.__version__"
   ]
  },
  {
   "cell_type": "markdown",
   "metadata": {},
   "source": [
    "CSVファイルの読み込み"
   ]
  },
  {
   "cell_type": "code",
   "execution_count": 28,
   "metadata": {},
   "outputs": [],
   "source": [
    "filename = '07hoikuennyoutien-asakashi_utf8.csv'\n",
    "df = pd.read_csv( filename )"
   ]
  },
  {
   "cell_type": "markdown",
   "metadata": {},
   "source": [
    "バブルチャートの表示"
   ]
  },
  {
   "cell_type": "code",
   "execution_count": 27,
   "metadata": {},
   "outputs": [
    {
     "data": {
      "text/html": [
       "<script src=\"https://cesiumjs.org/Cesium/Build/Cesium/Cesium.js\"></script>\n",
       "<link rel=\"stylesheet\" href=\"https://cesiumjs.org/Cesium/Build/Cesium/Widgets/widgets.css\" type=\"text/css\">\n",
       "<div id=\"container-4401031120\" style=\"width:100%; height:100%;\"><div>\n",
       "<script type=\"text/javascript\">\n",
       "  var widget = new Cesium.Viewer(\"container-4401031120\");\n",
       "  widget.entities.add({position : Cesium.Cartesian3.fromDegrees(139.589604, 35.803075, 0.0), point : {pixelSize : 30.0, color : Cesium.Color.BLUE}});\n",
       "  widget.entities.add({position : Cesium.Cartesian3.fromDegrees(139.596945, 35.801529, 0.0), point : {pixelSize : 18.0, color : Cesium.Color.BLUE}});\n",
       "  widget.entities.add({position : Cesium.Cartesian3.fromDegrees(139.597991, 35.797932, 0.0), point : {pixelSize : 6.0, color : Cesium.Color.BLUE}});\n",
       "  widget.entities.add({position : Cesium.Cartesian3.fromDegrees(139.593955, 35.798009, 0.0), point : {pixelSize : 8.0, color : Cesium.Color.BLUE}});\n",
       "  widget.entities.add({position : Cesium.Cartesian3.fromDegrees(139.600627, 35.791569, 0.0), point : {pixelSize : 15.4, color : Cesium.Color.BLUE}});\n",
       "  widget.entities.add({position : Cesium.Cartesian3.fromDegrees(139.596835, 35.790018, 0.0), point : {pixelSize : 6.0, color : Cesium.Color.BLUE}});\n",
       "  widget.entities.add({position : Cesium.Cartesian3.fromDegrees(139.598794, 35.786629, 0.0), point : {pixelSize : 10.0, color : Cesium.Color.BLUE}});\n",
       "  widget.entities.add({position : Cesium.Cartesian3.fromDegrees(139.584857, 35.794983, 0.0), point : {pixelSize : 9.0, color : Cesium.Color.BLUE}});\n",
       "  widget.entities.add({position : Cesium.Cartesian3.fromDegrees(139.58352, 35.802876, 0.0), point : {pixelSize : 12.0, color : Cesium.Color.BLUE}});\n",
       "  widget.entities.add({position : Cesium.Cartesian3.fromDegrees(139.587887, 35.807822, 0.0), point : {pixelSize : 30.0, color : Cesium.Color.BLUE}});\n",
       "  widget.entities.add({position : Cesium.Cartesian3.fromDegrees(139.593317, 35.801236, 0.0), point : {pixelSize : 2.0, color : Cesium.Color.BLUE}});\n",
       "  widget.entities.add({position : Cesium.Cartesian3.fromDegrees(139.598852, 35.796234, 0.0), point : {pixelSize : 3.4, color : Cesium.Color.BLUE}});\n",
       "  widget.entities.add({position : Cesium.Cartesian3.fromDegrees(139.581761, 35.798262, 0.0), point : {pixelSize : 1.8, color : Cesium.Color.BLUE}});\n",
       "  widget.entities.add({position : Cesium.Cartesian3.fromDegrees(139.596669, 35.794778, 0.0), point : {pixelSize : 10.0, color : Cesium.Color.BLUE}});\n",
       "  widget.entities.add({position : Cesium.Cartesian3.fromDegrees(139.59821, 35.799909, 0.0), point : {pixelSize : 3.6, color : Cesium.Color.BLUE}});\n",
       "  widget.entities.add({position : Cesium.Cartesian3.fromDegrees(139.598279, 35.794098, 0.0), point : {pixelSize : 3.6, color : Cesium.Color.BLUE}});\n",
       "  widget.entities.add({position : Cesium.Cartesian3.fromDegrees(139.593351, 35.797762, 0.0), point : {pixelSize : 3.8, color : Cesium.Color.BLUE}});\n",
       "  widget.entities.add({position : Cesium.Cartesian3.fromDegrees(139.597954, 35.796803, 0.0), point : {pixelSize : 10.0, color : Cesium.Color.BLUE}});\n",
       "  widget.entities.add({position : Cesium.Cartesian3.fromDegrees(139.589995, 35.808749, 0.0), point : {pixelSize : 18.0, color : Cesium.Color.BLUE}});\n",
       "  widget.entities.add({position : Cesium.Cartesian3.fromDegrees(139.585848, 35.794885, 0.0), point : {pixelSize : 3.6, color : Cesium.Color.BLUE}});\n",
       "  widget.entities.add({position : Cesium.Cartesian3.fromDegrees(139.596567, 35.814062, 0.0), point : {pixelSize : 12.0, color : Cesium.Color.BLUE}});\n",
       "  widget.entities.add({position : Cesium.Cartesian3.fromDegrees(139.604603, 35.804673, 0.0), point : {pixelSize : 12.0, color : Cesium.Color.BLUE}});\n",
       "  widget.entities.add({position : Cesium.Cartesian3.fromDegrees(139.610425, 35.799293, 0.0), point : {pixelSize : 18.0, color : Cesium.Color.BLUE}});\n",
       "  widget.entities.add({position : Cesium.Cartesian3.fromDegrees(139.603508, 35.792832, 0.0), point : {pixelSize : 18.0, color : Cesium.Color.BLUE}});\n",
       "  widget.entities.add({position : Cesium.Cartesian3.fromDegrees(139.601903, 35.794967, 0.0), point : {pixelSize : 20.0, color : Cesium.Color.BLUE}});\n",
       "  widget.entities.add({position : Cesium.Cartesian3.fromDegrees(139.602178, 35.802526, 0.0), point : {pixelSize : 16.2, color : Cesium.Color.BLUE}});\n",
       "  widget.entities.add({position : Cesium.Cartesian3.fromDegrees(139.594342, 35.811183, 0.0), point : {pixelSize : 18.0, color : Cesium.Color.BLUE}});\n",
       "  widget.entities.add({position : Cesium.Cartesian3.fromDegrees(139.603176, 35.796726, 0.0), point : {pixelSize : 3.8, color : Cesium.Color.BLUE}});\n",
       "  widget.entities.add({position : Cesium.Cartesian3.fromDegrees(139.603274, 35.79773, 0.0), point : {pixelSize : 3.0, color : Cesium.Color.BLUE}});\n",
       "  widget.entities.add({position : Cesium.Cartesian3.fromDegrees(139.600187, 35.801216, 0.0), point : {pixelSize : 3.8, color : Cesium.Color.BLUE}});\n",
       "  widget.entities.add({position : Cesium.Cartesian3.fromDegrees(139.601867, 35.796688, 0.0), point : {pixelSize : 8.0, color : Cesium.Color.BLUE}});\n",
       "  widget.entities.add({position : Cesium.Cartesian3.fromDegrees(139.601314, 35.797191, 0.0), point : {pixelSize : 4.0, color : Cesium.Color.BLUE}});\n",
       "  widget.entities.add({position : Cesium.Cartesian3.fromDegrees(139.610328, 35.81009, 0.0), point : {pixelSize : 13.2, color : Cesium.Color.BLUE}});\n",
       "  widget.entities.add({position : Cesium.Cartesian3.fromDegrees(139.605086, 35.801128, 0.0), point : {pixelSize : 12.0, color : Cesium.Color.BLUE}});\n",
       "  widget.entities.add({position : Cesium.Cartesian3.fromDegrees(139.596294, 35.807707, 0.0), point : {pixelSize : 3.8, color : Cesium.Color.BLUE}});\n",
       "  widget.entities.add({position : Cesium.Cartesian3.fromDegrees(139.581279, 35.828783, 0.0), point : {pixelSize : 12.0, color : Cesium.Color.BLUE}});\n",
       "  widget.entities.add({position : Cesium.Cartesian3.fromDegrees(139.591835, 35.825608, 0.0), point : {pixelSize : 20.6, color : Cesium.Color.BLUE}});\n",
       "  widget.entities.add({position : Cesium.Cartesian3.fromDegrees(139.606507, 35.814554, 0.0), point : {pixelSize : 10.0, color : Cesium.Color.BLUE}});\n",
       "  widget.entities.add({position : Cesium.Cartesian3.fromDegrees(139.600552, 35.816292, 0.0), point : {pixelSize : 18.0, color : Cesium.Color.BLUE}});\n",
       "  widget.entities.add({position : Cesium.Cartesian3.fromDegrees(139.591222, 35.813263, 0.0), point : {pixelSize : 14.0, color : Cesium.Color.BLUE}});\n",
       "  widget.entities.add({position : Cesium.Cartesian3.fromDegrees(139.584269, 35.818226, 0.0), point : {pixelSize : 21.2, color : Cesium.Color.BLUE}});\n",
       "  widget.entities.add({position : Cesium.Cartesian3.fromDegrees(139.58242, 35.819614, 0.0), point : {pixelSize : 3.0, color : Cesium.Color.BLUE}});\n",
       "  widget.entities.add({position : Cesium.Cartesian3.fromDegrees(139.582955, 35.820443, 0.0), point : {pixelSize : 12.0, color : Cesium.Color.BLUE}});\n",
       "  widget.entities.add({position : Cesium.Cartesian3.fromDegrees(139.585238, 35.816833, 0.0), point : {pixelSize : 12.4, color : Cesium.Color.BLUE}});\n",
       "  widget.entities.add({position : Cesium.Cartesian3.fromDegrees(139.586539, 35.818916, 0.0), point : {pixelSize : 3.8, color : Cesium.Color.BLUE}});\n",
       "  widget.entities.add({position : Cesium.Cartesian3.fromDegrees(139.587242, 35.821755, 0.0), point : {pixelSize : 12.0, color : Cesium.Color.BLUE}});\n",
       "  widget.entities.add({position : Cesium.Cartesian3.fromDegrees(139.579818, 35.818078, 0.0), point : {pixelSize : 18.0, color : Cesium.Color.BLUE}});\n",
       "  widget.entities.add({position : Cesium.Cartesian3.fromDegrees(139.583289, 35.813347, 0.0), point : {pixelSize : 9.6, color : Cesium.Color.BLUE}});\n",
       "  widget.entities.add({position : Cesium.Cartesian3.fromDegrees(139.588436, 35.810959, 0.0), point : {pixelSize : 20.0, color : Cesium.Color.BLUE}});\n",
       "  widget.entities.add({position : Cesium.Cartesian3.fromDegrees(139.578356, 35.804972, 0.0), point : {pixelSize : 14.8, color : Cesium.Color.BLUE}});\n",
       "  widget.entities.add({position : Cesium.Cartesian3.fromDegrees(139.585363, 35.81446, 0.0), point : {pixelSize : 3.6, color : Cesium.Color.BLUE}});\n",
       "  widget.entities.add({position : Cesium.Cartesian3.fromDegrees(139.587057, 35.814037, 0.0), point : {pixelSize : 6.4, color : Cesium.Color.BLUE}});\n",
       "  widget.entities.add({position : Cesium.Cartesian3.fromDegrees(139.586746, 35.813877, 0.0), point : {pixelSize : 3.8, color : Cesium.Color.BLUE}});\n",
       "  widget.entities.add({position : Cesium.Cartesian3.fromDegrees(139.591396, 35.789216, 0.0), point : {pixelSize : nan, color : Cesium.Color.BLUE}});\n",
       "  widget.entities.add({position : Cesium.Cartesian3.fromDegrees(139.585174, 35.792893, 0.0), point : {pixelSize : nan, color : Cesium.Color.BLUE}});\n",
       "  widget.entities.add({position : Cesium.Cartesian3.fromDegrees(139.583124, 35.815068, 0.0), point : {pixelSize : nan, color : Cesium.Color.BLUE}});\n",
       "  widget.entities.add({position : Cesium.Cartesian3.fromDegrees(139.606247, 35.799612, 0.0), point : {pixelSize : nan, color : Cesium.Color.BLUE}});\n",
       "  widget.entities.add({position : Cesium.Cartesian3.fromDegrees(139.609314, 35.803988, 0.0), point : {pixelSize : nan, color : Cesium.Color.BLUE}});\n",
       "  widget.entities.add({position : Cesium.Cartesian3.fromDegrees(139.604348, 35.814199, 0.0), point : {pixelSize : nan, color : Cesium.Color.BLUE}});\n",
       "  widget.entities.add({position : Cesium.Cartesian3.fromDegrees(139.58806, 35.820724, 0.0), point : {pixelSize : nan, color : Cesium.Color.BLUE}});\n",
       "  widget.entities.add({position : Cesium.Cartesian3.fromDegrees(139.584238, 35.827688, 0.0), point : {pixelSize : nan, color : Cesium.Color.BLUE}});\n",
       "  widget.zoomTo(widget.entities);\n",
       "</script>"
      ],
      "text/plain": [
       "<cesiumpy.viewer.Viewer at 0x1066bcf10>"
      ]
     },
     "execution_count": 27,
     "metadata": {},
     "output_type": "execute_result"
    }
   ],
   "source": [
    "v = cesiumpy.Viewer()\n",
    "for i, row in df.iterrows():\n",
    "    l = row['施設_収容人数［総定員］人数']\n",
    "    p = cesiumpy.Point(position=[row['施設_経度'], row['施設_緯度'], 0] \n",
    "                       ,  pixelSize=l/5, color='blue')\n",
    "    v.entities.add(p)\n",
    "v"
   ]
  },
  {
   "cell_type": "markdown",
   "metadata": {},
   "source": [
    "3D棒グラフの表示"
   ]
  },
  {
   "cell_type": "code",
   "execution_count": 25,
   "metadata": {},
   "outputs": [
    {
     "data": {
      "text/html": [
       "<script src=\"https://cesiumjs.org/Cesium/Build/Cesium/Cesium.js\"></script>\n",
       "<link rel=\"stylesheet\" href=\"https://cesiumjs.org/Cesium/Build/Cesium/Widgets/widgets.css\" type=\"text/css\">\n",
       "<div id=\"container-4401031952\" style=\"width:100%; height:100%;\"><div>\n",
       "<script type=\"text/javascript\">\n",
       "  var widget = new Cesium.Viewer(\"container-4401031952\");\n",
       "  widget.entities.add({position : Cesium.Cartesian3.fromDegrees(139.589604, 35.803075, 0.0), cylinder : {length : 1500.0, topRadius : 50.0, bottomRadius : 50.0, material : Cesium.Color.AQUA}});\n",
       "  widget.entities.add({position : Cesium.Cartesian3.fromDegrees(139.596945, 35.801529, 0.0), cylinder : {length : 900.0, topRadius : 50.0, bottomRadius : 50.0, material : Cesium.Color.AQUA}});\n",
       "  widget.entities.add({position : Cesium.Cartesian3.fromDegrees(139.597991, 35.797932, 0.0), cylinder : {length : 300.0, topRadius : 50.0, bottomRadius : 50.0, material : Cesium.Color.AQUA}});\n",
       "  widget.entities.add({position : Cesium.Cartesian3.fromDegrees(139.593955, 35.798009, 0.0), cylinder : {length : 400.0, topRadius : 50.0, bottomRadius : 50.0, material : Cesium.Color.AQUA}});\n",
       "  widget.entities.add({position : Cesium.Cartesian3.fromDegrees(139.600627, 35.791569, 0.0), cylinder : {length : 770.0, topRadius : 50.0, bottomRadius : 50.0, material : Cesium.Color.AQUA}});\n",
       "  widget.entities.add({position : Cesium.Cartesian3.fromDegrees(139.596835, 35.790018, 0.0), cylinder : {length : 300.0, topRadius : 50.0, bottomRadius : 50.0, material : Cesium.Color.AQUA}});\n",
       "  widget.entities.add({position : Cesium.Cartesian3.fromDegrees(139.598794, 35.786629, 0.0), cylinder : {length : 500.0, topRadius : 50.0, bottomRadius : 50.0, material : Cesium.Color.AQUA}});\n",
       "  widget.entities.add({position : Cesium.Cartesian3.fromDegrees(139.584857, 35.794983, 0.0), cylinder : {length : 450.0, topRadius : 50.0, bottomRadius : 50.0, material : Cesium.Color.AQUA}});\n",
       "  widget.entities.add({position : Cesium.Cartesian3.fromDegrees(139.58352, 35.802876, 0.0), cylinder : {length : 600.0, topRadius : 50.0, bottomRadius : 50.0, material : Cesium.Color.AQUA}});\n",
       "  widget.entities.add({position : Cesium.Cartesian3.fromDegrees(139.587887, 35.807822, 0.0), cylinder : {length : 1500.0, topRadius : 50.0, bottomRadius : 50.0, material : Cesium.Color.AQUA}});\n",
       "  widget.entities.add({position : Cesium.Cartesian3.fromDegrees(139.593317, 35.801236, 0.0), cylinder : {length : 100.0, topRadius : 50.0, bottomRadius : 50.0, material : Cesium.Color.AQUA}});\n",
       "  widget.entities.add({position : Cesium.Cartesian3.fromDegrees(139.598852, 35.796234, 0.0), cylinder : {length : 170.0, topRadius : 50.0, bottomRadius : 50.0, material : Cesium.Color.AQUA}});\n",
       "  widget.entities.add({position : Cesium.Cartesian3.fromDegrees(139.581761, 35.798262, 0.0), cylinder : {length : 90.0, topRadius : 50.0, bottomRadius : 50.0, material : Cesium.Color.AQUA}});\n",
       "  widget.entities.add({position : Cesium.Cartesian3.fromDegrees(139.596669, 35.794778, 0.0), cylinder : {length : 500.0, topRadius : 50.0, bottomRadius : 50.0, material : Cesium.Color.AQUA}});\n",
       "  widget.entities.add({position : Cesium.Cartesian3.fromDegrees(139.59821, 35.799909, 0.0), cylinder : {length : 180.0, topRadius : 50.0, bottomRadius : 50.0, material : Cesium.Color.AQUA}});\n",
       "  widget.entities.add({position : Cesium.Cartesian3.fromDegrees(139.598279, 35.794098, 0.0), cylinder : {length : 180.0, topRadius : 50.0, bottomRadius : 50.0, material : Cesium.Color.AQUA}});\n",
       "  widget.entities.add({position : Cesium.Cartesian3.fromDegrees(139.593351, 35.797762, 0.0), cylinder : {length : 190.0, topRadius : 50.0, bottomRadius : 50.0, material : Cesium.Color.AQUA}});\n",
       "  widget.entities.add({position : Cesium.Cartesian3.fromDegrees(139.597954, 35.796803, 0.0), cylinder : {length : 500.0, topRadius : 50.0, bottomRadius : 50.0, material : Cesium.Color.AQUA}});\n",
       "  widget.entities.add({position : Cesium.Cartesian3.fromDegrees(139.589995, 35.808749, 0.0), cylinder : {length : 900.0, topRadius : 50.0, bottomRadius : 50.0, material : Cesium.Color.AQUA}});\n",
       "  widget.entities.add({position : Cesium.Cartesian3.fromDegrees(139.585848, 35.794885, 0.0), cylinder : {length : 180.0, topRadius : 50.0, bottomRadius : 50.0, material : Cesium.Color.AQUA}});\n",
       "  widget.entities.add({position : Cesium.Cartesian3.fromDegrees(139.596567, 35.814062, 0.0), cylinder : {length : 600.0, topRadius : 50.0, bottomRadius : 50.0, material : Cesium.Color.AQUA}});\n",
       "  widget.entities.add({position : Cesium.Cartesian3.fromDegrees(139.604603, 35.804673, 0.0), cylinder : {length : 600.0, topRadius : 50.0, bottomRadius : 50.0, material : Cesium.Color.AQUA}});\n",
       "  widget.entities.add({position : Cesium.Cartesian3.fromDegrees(139.610425, 35.799293, 0.0), cylinder : {length : 900.0, topRadius : 50.0, bottomRadius : 50.0, material : Cesium.Color.AQUA}});\n",
       "  widget.entities.add({position : Cesium.Cartesian3.fromDegrees(139.603508, 35.792832, 0.0), cylinder : {length : 900.0, topRadius : 50.0, bottomRadius : 50.0, material : Cesium.Color.AQUA}});\n",
       "  widget.entities.add({position : Cesium.Cartesian3.fromDegrees(139.601903, 35.794967, 0.0), cylinder : {length : 1000.0, topRadius : 50.0, bottomRadius : 50.0, material : Cesium.Color.AQUA}});\n",
       "  widget.entities.add({position : Cesium.Cartesian3.fromDegrees(139.602178, 35.802526, 0.0), cylinder : {length : 810.0, topRadius : 50.0, bottomRadius : 50.0, material : Cesium.Color.AQUA}});\n",
       "  widget.entities.add({position : Cesium.Cartesian3.fromDegrees(139.594342, 35.811183, 0.0), cylinder : {length : 900.0, topRadius : 50.0, bottomRadius : 50.0, material : Cesium.Color.AQUA}});\n",
       "  widget.entities.add({position : Cesium.Cartesian3.fromDegrees(139.603176, 35.796726, 0.0), cylinder : {length : 190.0, topRadius : 50.0, bottomRadius : 50.0, material : Cesium.Color.AQUA}});\n",
       "  widget.entities.add({position : Cesium.Cartesian3.fromDegrees(139.603274, 35.79773, 0.0), cylinder : {length : 150.0, topRadius : 50.0, bottomRadius : 50.0, material : Cesium.Color.AQUA}});\n",
       "  widget.entities.add({position : Cesium.Cartesian3.fromDegrees(139.600187, 35.801216, 0.0), cylinder : {length : 190.0, topRadius : 50.0, bottomRadius : 50.0, material : Cesium.Color.AQUA}});\n",
       "  widget.entities.add({position : Cesium.Cartesian3.fromDegrees(139.601867, 35.796688, 0.0), cylinder : {length : 400.0, topRadius : 50.0, bottomRadius : 50.0, material : Cesium.Color.AQUA}});\n",
       "  widget.entities.add({position : Cesium.Cartesian3.fromDegrees(139.601314, 35.797191, 0.0), cylinder : {length : 200.0, topRadius : 50.0, bottomRadius : 50.0, material : Cesium.Color.AQUA}});\n",
       "  widget.entities.add({position : Cesium.Cartesian3.fromDegrees(139.610328, 35.81009, 0.0), cylinder : {length : 660.0, topRadius : 50.0, bottomRadius : 50.0, material : Cesium.Color.AQUA}});\n",
       "  widget.entities.add({position : Cesium.Cartesian3.fromDegrees(139.605086, 35.801128, 0.0), cylinder : {length : 600.0, topRadius : 50.0, bottomRadius : 50.0, material : Cesium.Color.AQUA}});\n",
       "  widget.entities.add({position : Cesium.Cartesian3.fromDegrees(139.596294, 35.807707, 0.0), cylinder : {length : 190.0, topRadius : 50.0, bottomRadius : 50.0, material : Cesium.Color.AQUA}});\n",
       "  widget.entities.add({position : Cesium.Cartesian3.fromDegrees(139.581279, 35.828783, 0.0), cylinder : {length : 600.0, topRadius : 50.0, bottomRadius : 50.0, material : Cesium.Color.AQUA}});\n",
       "  widget.entities.add({position : Cesium.Cartesian3.fromDegrees(139.591835, 35.825608, 0.0), cylinder : {length : 1030.0, topRadius : 50.0, bottomRadius : 50.0, material : Cesium.Color.AQUA}});\n",
       "  widget.entities.add({position : Cesium.Cartesian3.fromDegrees(139.606507, 35.814554, 0.0), cylinder : {length : 500.0, topRadius : 50.0, bottomRadius : 50.0, material : Cesium.Color.AQUA}});\n",
       "  widget.entities.add({position : Cesium.Cartesian3.fromDegrees(139.600552, 35.816292, 0.0), cylinder : {length : 900.0, topRadius : 50.0, bottomRadius : 50.0, material : Cesium.Color.AQUA}});\n",
       "  widget.entities.add({position : Cesium.Cartesian3.fromDegrees(139.591222, 35.813263, 0.0), cylinder : {length : 700.0, topRadius : 50.0, bottomRadius : 50.0, material : Cesium.Color.AQUA}});\n",
       "  widget.entities.add({position : Cesium.Cartesian3.fromDegrees(139.584269, 35.818226, 0.0), cylinder : {length : 1060.0, topRadius : 50.0, bottomRadius : 50.0, material : Cesium.Color.AQUA}});\n",
       "  widget.entities.add({position : Cesium.Cartesian3.fromDegrees(139.58242, 35.819614, 0.0), cylinder : {length : 150.0, topRadius : 50.0, bottomRadius : 50.0, material : Cesium.Color.AQUA}});\n",
       "  widget.entities.add({position : Cesium.Cartesian3.fromDegrees(139.582955, 35.820443, 0.0), cylinder : {length : 600.0, topRadius : 50.0, bottomRadius : 50.0, material : Cesium.Color.AQUA}});\n",
       "  widget.entities.add({position : Cesium.Cartesian3.fromDegrees(139.585238, 35.816833, 0.0), cylinder : {length : 620.0, topRadius : 50.0, bottomRadius : 50.0, material : Cesium.Color.AQUA}});\n",
       "  widget.entities.add({position : Cesium.Cartesian3.fromDegrees(139.586539, 35.818916, 0.0), cylinder : {length : 190.0, topRadius : 50.0, bottomRadius : 50.0, material : Cesium.Color.AQUA}});\n",
       "  widget.entities.add({position : Cesium.Cartesian3.fromDegrees(139.587242, 35.821755, 0.0), cylinder : {length : 600.0, topRadius : 50.0, bottomRadius : 50.0, material : Cesium.Color.AQUA}});\n",
       "  widget.entities.add({position : Cesium.Cartesian3.fromDegrees(139.579818, 35.818078, 0.0), cylinder : {length : 900.0, topRadius : 50.0, bottomRadius : 50.0, material : Cesium.Color.AQUA}});\n",
       "  widget.entities.add({position : Cesium.Cartesian3.fromDegrees(139.583289, 35.813347, 0.0), cylinder : {length : 480.0, topRadius : 50.0, bottomRadius : 50.0, material : Cesium.Color.AQUA}});\n",
       "  widget.entities.add({position : Cesium.Cartesian3.fromDegrees(139.588436, 35.810959, 0.0), cylinder : {length : 1000.0, topRadius : 50.0, bottomRadius : 50.0, material : Cesium.Color.AQUA}});\n",
       "  widget.entities.add({position : Cesium.Cartesian3.fromDegrees(139.578356, 35.804972, 0.0), cylinder : {length : 740.0, topRadius : 50.0, bottomRadius : 50.0, material : Cesium.Color.AQUA}});\n",
       "  widget.entities.add({position : Cesium.Cartesian3.fromDegrees(139.585363, 35.81446, 0.0), cylinder : {length : 180.0, topRadius : 50.0, bottomRadius : 50.0, material : Cesium.Color.AQUA}});\n",
       "  widget.entities.add({position : Cesium.Cartesian3.fromDegrees(139.587057, 35.814037, 0.0), cylinder : {length : 320.0, topRadius : 50.0, bottomRadius : 50.0, material : Cesium.Color.AQUA}});\n",
       "  widget.entities.add({position : Cesium.Cartesian3.fromDegrees(139.586746, 35.813877, 0.0), cylinder : {length : 190.0, topRadius : 50.0, bottomRadius : 50.0, material : Cesium.Color.AQUA}});\n",
       "  widget.entities.add({position : Cesium.Cartesian3.fromDegrees(139.591396, 35.789216, 0.0), cylinder : {length : nan, topRadius : 50.0, bottomRadius : 50.0, material : Cesium.Color.AQUA}});\n",
       "  widget.entities.add({position : Cesium.Cartesian3.fromDegrees(139.585174, 35.792893, 0.0), cylinder : {length : nan, topRadius : 50.0, bottomRadius : 50.0, material : Cesium.Color.AQUA}});\n",
       "  widget.entities.add({position : Cesium.Cartesian3.fromDegrees(139.583124, 35.815068, 0.0), cylinder : {length : nan, topRadius : 50.0, bottomRadius : 50.0, material : Cesium.Color.AQUA}});\n",
       "  widget.entities.add({position : Cesium.Cartesian3.fromDegrees(139.606247, 35.799612, 0.0), cylinder : {length : nan, topRadius : 50.0, bottomRadius : 50.0, material : Cesium.Color.AQUA}});\n",
       "  widget.entities.add({position : Cesium.Cartesian3.fromDegrees(139.609314, 35.803988, 0.0), cylinder : {length : nan, topRadius : 50.0, bottomRadius : 50.0, material : Cesium.Color.AQUA}});\n",
       "  widget.entities.add({position : Cesium.Cartesian3.fromDegrees(139.604348, 35.814199, 0.0), cylinder : {length : nan, topRadius : 50.0, bottomRadius : 50.0, material : Cesium.Color.AQUA}});\n",
       "  widget.entities.add({position : Cesium.Cartesian3.fromDegrees(139.58806, 35.820724, 0.0), cylinder : {length : nan, topRadius : 50.0, bottomRadius : 50.0, material : Cesium.Color.AQUA}});\n",
       "  widget.entities.add({position : Cesium.Cartesian3.fromDegrees(139.584238, 35.827688, 0.0), cylinder : {length : nan, topRadius : 50.0, bottomRadius : 50.0, material : Cesium.Color.AQUA}});\n",
       "  widget.zoomTo(widget.entities);\n",
       "</script>"
      ],
      "text/plain": [
       "<cesiumpy.viewer.Viewer at 0x106646910>"
      ]
     },
     "execution_count": 25,
     "metadata": {},
     "output_type": "execute_result"
    }
   ],
   "source": [
    "v = cesiumpy.Viewer()\n",
    "for i, row in df.iterrows():\n",
    "    l = row['施設_収容人数［総定員］人数']\n",
    "    cyl = cesiumpy.Cylinder(position=[row['施設_経度'], row['施設_緯度'] ],  \n",
    "                            length=l*10,topRadius=50, bottomRadius=50, material='aqua')\n",
    "    v.entities.add(cyl)\n",
    "v"
   ]
  },
  {
   "cell_type": "code",
   "execution_count": null,
   "metadata": {},
   "outputs": [],
   "source": []
  }
 ],
 "metadata": {
  "kernelspec": {
   "display_name": "Python 2",
   "language": "python",
   "name": "python2"
  },
  "language_info": {
   "codemirror_mode": {
    "name": "ipython",
    "version": 2
   },
   "file_extension": ".py",
   "mimetype": "text/x-python",
   "name": "python",
   "nbconvert_exporter": "python",
   "pygments_lexer": "ipython2",
   "version": "2.7.10"
  }
 },
 "nbformat": 4,
 "nbformat_minor": 2
}
